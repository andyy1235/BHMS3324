{
  "cells": [
    {
      "cell_type": "markdown",
      "id": "heard-tennessee",
      "metadata": {
        "id": "heard-tennessee"
      },
      "source": [
        "# Lab Exercise 2"
      ]
    },
    {
      "cell_type": "markdown",
      "id": "brazilian-former",
      "metadata": {
        "id": "brazilian-former"
      },
      "source": [
        "### You need to print the notebook as PDF and submit it on Balckboard\n",
        "#### The deadline of submission is 23:59, 5 April 2025"
      ]
    },
    {
      "cell_type": "markdown",
      "id": "elect-mainland",
      "metadata": {
        "id": "elect-mainland"
      },
      "source": [
        "## Case Background\n",
        "\n",
        "You are the teaching assistant of the subject BHMS3324. There are 20 students enrolled on your class, and you would like to use Python to record and analyse their learning performance.\n",
        "\n",
        "Four assessment components that determine the overall result of this subject are \"homework 1\", \"homework 2\", \"test\", and \"exam\". The weights of the components towards the final marks are:\n",
        "\n",
        "|homework 1| homework 2| test| exam|\n",
        "|:-:|:-:|:-:|:-:|\n",
        "|20%| 20%| 20%| 40%|\n",
        "\n",
        "The table below is the student list of the subject BHMS3323.\n",
        "\n",
        "![namelist](https://github.com/andyy1235/BHMS3324/blob/main/images/lab_exercise03_namelist.png?raw=1)"
      ]
    },
    {
      "cell_type": "markdown",
      "id": "floating-biotechnology",
      "metadata": {
        "id": "floating-biotechnology"
      },
      "source": [
        "## Question 1\n",
        "\n",
        "Create a Pandas `DataFrame` named `results` for storing the student's results.\n",
        "- Your dataframe should contain four columns named \"HW1\", \"HW2\", \"Test\", and \"Exam\".\n",
        "- You should use the student name as the index of the DataFrame.\n",
        "- You should initialize a zero mark for all the assessment components."
      ]
    },
    {
      "cell_type": "code",
      "execution_count": null,
      "id": "living-template",
      "metadata": {
        "id": "living-template",
        "outputId": "3a2ed6e6-75bf-437e-d6dd-906e1497aa34"
      },
      "outputs": [
        {
          "name": "stdout",
          "output_type": "stream",
          "text": [
            "[4, 6]\n"
          ]
        }
      ],
      "source": [
        "# Question 1\n",
        "# Write your code below:\n",
        "\n",
        "import pandas as pd\n",
        "StudentName = [\"John Lee\", \"Peter Chan\", \"Janice Ma\", \"Roy Kwok\", \"Peter Ng\", \"Joe Lam\",\n",
        "         \"Bill Kwan\", \"Christine Law\", \"Ricky Chan\", \"Theresa Ma\", \"Chole Wu\",\n",
        "         \"Isaac Lee\", \"Gina Wut\", \"Candy Ip\", \"Ben Chan\", \"Anson Lo\", \"Jacky Shiu\",\n",
        "         \"Catherine Wo\", \"Elton Tang\", \"Rock Shek\"]\n",
        "\n"
      ]
    },
    {
      "cell_type": "markdown",
      "id": "conceptual-devon",
      "metadata": {
        "id": "conceptual-devon"
      },
      "source": [
        "## Question 2\n",
        "\n",
        "The students got the following marks towards the semester's end.\n",
        "\n",
        "![namelist](https://github.com/andyy1235/BHMS3324/blob/main/images/lab_exercise03_marks.png?raw=1)\n",
        "\n",
        "- Write code to update the marks in `data` according to the above table.\n",
        "- Add a column named 'total' in the DataFrame `results` with the overall marks for individual students\n",
        "- Write code to find out which student got the highest mark in this course.\n",
        "- Write code to find out which student got the lowest mark in this course.\n",
        "\n"
      ]
    },
    {
      "cell_type": "code",
      "execution_count": null,
      "id": "fluid-cream",
      "metadata": {
        "id": "fluid-cream"
      },
      "outputs": [],
      "source": [
        "# Question 2\n",
        "\n",
        "# Write your code below:"
      ]
    },
    {
      "cell_type": "markdown",
      "id": "integral-parker",
      "metadata": {
        "id": "integral-parker"
      },
      "source": [
        "## Question 3\n",
        "\n",
        "Suppose the following mark-to-grade conversion table is adopted in this course.\n",
        "\n",
        "|Mark range| Grade|\n",
        "|:-: | :-: |\n",
        "|49 or below | F |\n",
        "|50 to 59| D|\n",
        "|60 to 69| C|\n",
        "|70 to 79| B|\n",
        "|80 or above| A|\n",
        "\n",
        "- Add a column named 'grade' in the DataFrame `results` with the overall grade for individual students.\n",
        "\n",
        "\n"
      ]
    },
    {
      "cell_type": "code",
      "execution_count": null,
      "id": "negative-comfort",
      "metadata": {
        "id": "negative-comfort"
      },
      "outputs": [],
      "source": [
        "# Question 3\n",
        "\n",
        "# Write your code below:\n"
      ]
    }
  ],
  "metadata": {
    "kernelspec": {
      "display_name": "fintechlab",
      "language": "python",
      "name": "fintechlab"
    },
    "language_info": {
      "codemirror_mode": {
        "name": "ipython",
        "version": 3
      },
      "file_extension": ".py",
      "mimetype": "text/x-python",
      "name": "python",
      "nbconvert_exporter": "python",
      "pygments_lexer": "ipython3",
      "version": "3.8.6"
    },
    "colab": {
      "provenance": [],
      "toc_visible": true
    }
  },
  "nbformat": 4,
  "nbformat_minor": 5
}