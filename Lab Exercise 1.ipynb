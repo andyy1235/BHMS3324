{
  "cells": [
    {
      "cell_type": "markdown",
      "id": "heard-tennessee",
      "metadata": {
        "id": "heard-tennessee"
      },
      "source": [
        "## Lab Exercise 1"
      ]
    },
    {
      "cell_type": "markdown",
      "id": "brazilian-former",
      "metadata": {
        "id": "brazilian-former"
      },
      "source": [
        "### You need to print the notebook as PDF and submit it on Blackboard\n",
        "#### The deadline of submission is 23:59, 23 Feb 2025"
      ]
    },
    {
      "cell_type": "markdown",
      "id": "bulgarian-capture",
      "metadata": {
        "id": "bulgarian-capture"
      },
      "source": [
        "**Question 1**\n",
        "\n",
        "**Rewrite the code below to fulfil the following requirements:**\n",
        "1. if the variable `marks` is less than 0, output \"Marks can't be a negative number.\"\n",
        "2. if the variable `marks` is larger than 100, output \"Marks should be smaller than 100.\"\n"
      ]
    },
    {
      "cell_type": "code",
      "execution_count": 6,
      "id": "insured-fetish",
      "metadata": {
        "colab": {
          "base_uri": "https://localhost:8080/"
        },
        "id": "insured-fetish",
        "outputId": "9190772c-3114-45dc-8540-98f2fe8b5284"
      },
      "outputs": [
        {
          "output_type": "stream",
          "name": "stdout",
          "text": [
            "Marks should be smaller than 100.\n",
            "Your grade is F\n"
          ]
        }
      ],
      "source": [
        "# Question 1\n",
        "# Change the code below\n",
        "\n",
        "marks = 101\n",
        "grade = 'F'\n",
        "\n",
        "if marks < 0 :\n",
        "    print(\"Marks can't be a negative number.\")\n",
        "elif marks > 100:\n",
        "    print(\"Marks should be smaller than 100.\")\n",
        "    grade = 'F'\n",
        "elif marks >=40 and marks < 60:\n",
        "    grade = 'D'\n",
        "elif marks >=60 and marks < 70:\n",
        "    grade = 'C'\n",
        "elif marks >=70 and marks < 80:\n",
        "    grade = 'B'\n",
        "elif marks >=80:\n",
        "    grade = 'A'\n",
        "\n",
        "print(\"Your grade is \" + grade)"
      ]
    },
    {
      "cell_type": "markdown",
      "id": "sunrise-gambling",
      "metadata": {
        "id": "sunrise-gambling"
      },
      "source": [
        "**Question 2**\n",
        "\n",
        "**Rewrite the code below for printing the number 1 to 10, but skipping 3.**\n",
        "\n",
        "**You must using WHILE loop**\n",
        "\n",
        "Your output should look like this:\n",
        "1\n",
        "2\n",
        "4\n",
        "5\n",
        "6\n",
        "7\n",
        "8\n",
        "9\n",
        "10"
      ]
    },
    {
      "cell_type": "code",
      "execution_count": null,
      "id": "offshore-trustee",
      "metadata": {
        "id": "offshore-trustee",
        "outputId": "512f4bad-0224-490c-b962-8a7a2053bf58"
      },
      "outputs": [
        {
          "name": "stdout",
          "output_type": "stream",
          "text": [
            "2\n",
            "5\n",
            "6\n",
            "7\n",
            "8\n",
            "9\n",
            "10\n"
          ]
        }
      ],
      "source": [
        "# Question 2\n",
        "# Change the code below\n",
        "\n",
        "i = 1\n",
        "\n",
        "while i < 10:\n",
        "    i = i + 1\n",
        "    if i == 3:\n",
        "        i += 1\n",
        "        continue\n",
        "    print(i)"
      ]
    },
    {
      "cell_type": "markdown",
      "id": "silver-accessory",
      "metadata": {
        "id": "silver-accessory"
      },
      "source": [
        "**Question 3**\n",
        "\n",
        "**Use `for` loop to print a multiplication chart of 1-12.**\n",
        "\n",
        "Your output should look like this:\n",
        "\n",
        "![if else](https://github.com/ychen9295/BHMS3324/blob/main/images/lab_exercise01_multi_table.png?raw=1)"
      ]
    },
    {
      "cell_type": "code",
      "execution_count": null,
      "id": "moved-offering",
      "metadata": {
        "id": "moved-offering",
        "outputId": "0453a416-f5cb-4c6a-d400-bd7dd38ab48c"
      },
      "outputs": [
        {
          "name": "stdout",
          "output_type": "stream",
          "text": [
            "12345678"
          ]
        }
      ],
      "source": [
        "# Hints\n",
        "# if you add (end = \"\") in the print function, your will print without newline\n",
        "# below is an example to print 0-8 in a same line\n",
        "# range(1,9) is an iteration object start from 1 to 8\n",
        "\n",
        "for i in range(1,9):\n",
        "    print(i, end =\"\")"
      ]
    },
    {
      "cell_type": "code",
      "execution_count": null,
      "id": "german-shoot",
      "metadata": {
        "scrolled": true,
        "id": "german-shoot"
      },
      "outputs": [],
      "source": [
        "# Question 3\n",
        "# Write you program below:\n",
        "\n",
        "\n"
      ]
    }
  ],
  "metadata": {
    "kernelspec": {
      "display_name": "Python 3",
      "name": "python3"
    },
    "language_info": {
      "name": "python"
    },
    "colab": {
      "provenance": []
    }
  },
  "nbformat": 4,
  "nbformat_minor": 5
}