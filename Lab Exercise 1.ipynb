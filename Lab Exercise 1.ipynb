{
  "cells": [
    {
      "cell_type": "markdown",
      "id": "heard-tennessee",
      "metadata": {
        "id": "heard-tennessee"
      },
      "source": [
        "## Lab Exercise 1"
      ]
    },
    {
      "cell_type": "markdown",
      "id": "brazilian-former",
      "metadata": {
        "id": "brazilian-former"
      },
      "source": [
        "### You need to print the notebook as PDF and submit it on Blackboard\n",
        "#### The deadline of submission is 23:59, 23 Feb 2025"
      ]
    },
    {
      "cell_type": "markdown",
      "id": "bulgarian-capture",
      "metadata": {
        "id": "bulgarian-capture"
      },
      "source": [
        "**Question 1**\n",
        "\n",
        "**Rewrite the code below to fulfil the following requirements:**\n",
        "1. if the variable `marks` is less than 0, output \"Marks can't be a negative number.\"\n",
        "2. if the variable `marks` is larger than 100, output \"Marks should be smaller than 100.\"\n"
      ]
    },
    {
      "cell_type": "code",
      "execution_count": 21,
      "id": "insured-fetish",
      "metadata": {
        "colab": {
          "base_uri": "https://localhost:8080/",
          "height": 0
        },
        "id": "insured-fetish",
        "outputId": "7f6ec1fc-a0f9-4ddb-8c74-2c6feee94519"
      },
      "outputs": [
        {
          "output_type": "stream",
          "name": "stdout",
          "text": [
            "Marks can't be a negative number.\n"
          ]
        }
      ],
      "source": [
        "# Question 1\n",
        "# Change the code below\n",
        "\n",
        "marks = -2\n",
        "grade = 'F'\n",
        "\n",
        "if marks < 0 :\n",
        "    print(\"Marks can't be a negative number.\")\n",
        "elif marks > 100:\n",
        "    print(\"Marks should be smaller than 100.\")\n",
        "elif marks > 0 and marks < 40:\n",
        "    grade = 'F'\n",
        "elif marks >=40 and marks < 60:\n",
        "    grade = 'D'\n",
        "elif marks >=60 and marks < 70:\n",
        "    grade = 'C'\n",
        "elif marks >=70 and marks < 80:\n",
        "    grade = 'B'\n",
        "elif marks >=80:\n",
        "    grade = 'A'\n",
        "\n",
        "if marks >= 0 and marks <=100:\n",
        "  print(\"Your grade is \" + grade)"
      ]
    },
    {
      "cell_type": "markdown",
      "id": "sunrise-gambling",
      "metadata": {
        "id": "sunrise-gambling"
      },
      "source": [
        "**Question 2**\n",
        "\n",
        "**Rewrite the code below for printing the number 1 to 10, but skipping 3.**\n",
        "\n",
        "**You must using WHILE loop**\n",
        "\n",
        "Your output should look like this:\n",
        "1\n",
        "2\n",
        "4\n",
        "5\n",
        "6\n",
        "7\n",
        "8\n",
        "9\n",
        "10"
      ]
    },
    {
      "cell_type": "code",
      "execution_count": 20,
      "id": "offshore-trustee",
      "metadata": {
        "colab": {
          "base_uri": "https://localhost:8080/",
          "height": 0
        },
        "id": "offshore-trustee",
        "outputId": "6b2a80a4-bf21-4f02-d20d-9754ebf0b7a0"
      },
      "outputs": [
        {
          "output_type": "stream",
          "name": "stdout",
          "text": [
            "1\n",
            "2\n",
            "4\n",
            "5\n",
            "6\n",
            "7\n",
            "8\n",
            "9\n",
            "10\n"
          ]
        }
      ],
      "source": [
        "# Question 2\n",
        "# Change the code below\n",
        "\n",
        "i = 0\n",
        "\n",
        "while i < 10:\n",
        "    i = i + 1\n",
        "    if i == 3:\n",
        "        continue\n",
        "    print(i)"
      ]
    },
    {
      "cell_type": "markdown",
      "id": "silver-accessory",
      "metadata": {
        "id": "silver-accessory"
      },
      "source": [
        "**Question 3**\n",
        "\n",
        "**Use `for` loop to print a multiplication chart of 1-12.**\n",
        "\n",
        "Your output should look like this:\n",
        "\n",
        "![if else](https://github.com/ychen9295/BHMS3324/blob/main/images/lab_exercise01_multi_table.png?raw=1)"
      ]
    },
    {
      "cell_type": "code",
      "execution_count": 16,
      "id": "moved-offering",
      "metadata": {
        "colab": {
          "base_uri": "https://localhost:8080/",
          "height": 0
        },
        "id": "moved-offering",
        "outputId": "2b310155-4555-4c0f-db8a-90b4df5ae9b2"
      },
      "outputs": [
        {
          "output_type": "stream",
          "name": "stdout",
          "text": [
            "12345678"
          ]
        }
      ],
      "source": [
        "# Hints\n",
        "# if you add (end = \"\") in the print function, your will print without newline\n",
        "# below is an example to print 0-8 in a same line\n",
        "# range(1,9) is an iteration object start from 1 to 8\n",
        "\n",
        "for i in range(1,9):\n",
        "    print(i, end =\"\")"
      ]
    },
    {
      "cell_type": "code",
      "execution_count": 19,
      "id": "german-shoot",
      "metadata": {
        "scrolled": true,
        "colab": {
          "base_uri": "https://localhost:8080/",
          "height": 0
        },
        "id": "german-shoot",
        "outputId": "bd27fb3d-95f8-4817-83c0-93c8adfab3ed"
      },
      "outputs": [
        {
          "output_type": "stream",
          "name": "stdout",
          "text": [
            "1 2 3 4 5 6 7 8 9 10 11 12 \n",
            "2 4 6 8 10 12 14 16 18 20 22 24 \n",
            "3 6 9 12 15 18 21 24 27 30 33 36 \n",
            "4 8 12 16 20 24 28 32 36 40 44 48 \n",
            "5 10 15 20 25 30 35 40 45 50 55 60 \n",
            "6 12 18 24 30 36 42 48 54 60 66 72 \n",
            "7 14 21 28 35 42 49 56 63 70 77 84 \n",
            "8 16 24 32 40 48 56 64 72 80 88 96 \n",
            "9 18 27 36 45 54 63 72 81 90 99 108 \n",
            "10 20 30 40 50 60 70 80 90 100 110 120 \n",
            "11 22 33 44 55 66 77 88 99 110 121 132 \n",
            "12 24 36 48 60 72 84 96 108 120 132 144 \n"
          ]
        }
      ],
      "source": [
        "# Question 3\n",
        "# Write you program below:\n",
        "for i in range(1,13):\n",
        "  for y in range(1,13):\n",
        "    print(i*y, end = \" \")\n",
        "  print()\n",
        "\n"
      ]
    }
  ],
  "metadata": {
    "kernelspec": {
      "display_name": "Python 3",
      "name": "python3"
    },
    "language_info": {
      "name": "python"
    },
    "colab": {
      "provenance": []
    }
  },
  "nbformat": 4,
  "nbformat_minor": 5
}