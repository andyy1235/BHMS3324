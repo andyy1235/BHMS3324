{
  "cells": [
    {
      "cell_type": "markdown",
      "id": "heard-tennessee",
      "metadata": {
        "id": "heard-tennessee"
      },
      "source": [
        "# Lab Exercise 3"
      ]
    },
    {
      "cell_type": "markdown",
      "id": "brazilian-former",
      "metadata": {
        "id": "brazilian-former"
      },
      "source": [
        "### You need to print the notebook as PDF and submit it on Blackboard\n",
        "#### The deadline of submission is 23:59, 25 April 2025"
      ]
    },
    {
      "cell_type": "markdown",
      "id": "elect-mainland",
      "metadata": {
        "id": "elect-mainland"
      },
      "source": [
        "## Case Background\n",
        "\n",
        "You created a blockchain that stores all the money transactions data. Each block in the blockchain stores transaction data such as \"Joe sent $100 to Mary on 20 March 2023, 15:30:00\".\n",
        "\n",
        "You implemented the following BlockChain code.\n"
      ]
    },
    {
      "cell_type": "code",
      "execution_count": 2,
      "id": "living-template",
      "metadata": {
        "id": "living-template"
      },
      "outputs": [],
      "source": [
        "import time\n",
        "import json\n",
        "import hashlib\n",
        "import datetime\n",
        "\n",
        "class BlockChain:\n",
        "    def __init__(self):\n",
        "        self.blocks = []  # empty chain\n",
        "        self.mem_pool = [] # empty list\n",
        "\n",
        "        ## add Genesis block\n",
        "        self.add_new_block(\"Genesis Block\")\n",
        "\n",
        "\n",
        "    def new_transaction(self, sender, recipient, amount):\n",
        "        transaction = {\n",
        "            \"Sender\": sender,\n",
        "            \"Recipient\": recipient,\n",
        "            \"Amount(HKD)\": amount,\n",
        "            \"Datetime\": time.time()\n",
        "        }\n",
        "        self.mem_pool.append(transaction)\n",
        "\n",
        "    def add_new_block(self, previous_hash=None):\n",
        "\n",
        "        difficulty = 3 # number of leading zeros needed\n",
        "\n",
        "        nounce = 1 # set nounce to 1 first\n",
        "\n",
        "        block = {\n",
        "            'index': len(self.blocks) + 1,  # the next value of index\n",
        "            'timestamp': time.time(),\n",
        "            'transactions': self.mem_pool,\n",
        "            'nounce': nounce,\n",
        "            'previous_hash': previous_hash or self.hash(self.blocks[-1]),\n",
        "        }\n",
        "\n",
        "        hash_value = self.hash(block)\n",
        "\n",
        "        # time the process\n",
        "        print(\"Try adding block...\")\n",
        "        start_time = time.time()\n",
        "\n",
        "        while not self.check_leading_zeros(hash_value, difficulty):\n",
        "            nounce = nounce + 1  # try next nounce\n",
        "            block['nounce'] = nounce\n",
        "            hash_value = self.hash(block)\n",
        "\n",
        "\n",
        "\n",
        "\n",
        "        self.mem_pool = [] # clear the pool\n",
        "        self.blocks.append(block) # append the block to the chain\n",
        "\n",
        "\n",
        "        print(\"Block added.\")\n",
        "        end_time = time.time()\n",
        "        print(\"Total time needed is {} seconds:\".format(end_time - start_time))\n",
        "\n",
        "        # return block\n",
        "\n",
        "    def hash(self, block):\n",
        "        data = json.dumps(block, sort_keys=True)  # convert the json object to string\n",
        "        return hashlib.sha256(data.encode()).hexdigest()\n",
        "\n",
        "    def print(self):\n",
        "        for block in self.blocks:\n",
        "            print(\"Block {}:\".format(block['index']))\n",
        "            print(\"Nounce {}\".format(block['nounce']))\n",
        "            print(\"Createion time: {}\".format( self.convert_time(block['timestamp'])))\n",
        "            print(\"Previous hash: {}\".format(block['previous_hash']))\n",
        "            print(\"Hash:{}\".format(self.hash(block)))\n",
        "\n",
        "            for transaction in block[\"transactions\"]:\n",
        "                print(transaction)\n",
        "\n",
        "            print(\"\")\n",
        "\n",
        "    def convert_time(self, timestamp):\n",
        "        return datetime.datetime.fromtimestamp(timestamp).strftime(\"%Y-%m-%d %H:%M:%S\")\n",
        "\n",
        "    def check_leading_zeros(self, hash_value, difficulty):\n",
        "        for i in range(0, difficulty): # extract the character at first difficulty_level position\n",
        "            if hash_value[i] != \"0\":\n",
        "                return False\n",
        "        return True\n",
        "\n",
        "    def is_valid(self):\n",
        "        length = len(self.blocks)\n",
        "        for i in range(0,length):\n",
        "            if i != 0:  # skip the genesis block\n",
        "                if self.hash(self.blocks[i-1]) != self.blocks[i][\"previous_hash\"]:\n",
        "                    return False\n",
        "        return True\n"
      ]
    },
    {
      "cell_type": "markdown",
      "id": "floating-biotechnology",
      "metadata": {
        "id": "floating-biotechnology"
      },
      "source": [
        "## Question 1\n",
        "\n",
        "Create an instance of the blockchain and performs the following actions.\n",
        "\n",
        "1. Add the following transactions in the mempool\n",
        "\n",
        "- Ray sends Joe \\$200.\n",
        "- Peter sends Bill \\$400.\n",
        "\n",
        "2. Create a new block.\n",
        "\n",
        "\n",
        "3. Add the following transactions in the mempool\n",
        "\n",
        "- Ray sends Bill \\$200.\n",
        "- Peter sends Ray \\$400.\n",
        "- Chris sends Kris \\$200.\n",
        "- Peter sends Bill \\$500.\n",
        "\n",
        "4. Create a new block.\n",
        "\n",
        "\n",
        "5. Add the following transactions in the mempool\n",
        "\n",
        "- Kris sends Ray \\$1200.\n",
        "- Ray sends Chris \\$400.\n",
        "\n",
        "6. Create a new block.\n",
        "\n",
        "\n",
        "7. print the Blockchain.\n",
        "\n"
      ]
    },
    {
      "cell_type": "code",
      "execution_count": 3,
      "id": "conceptual-position",
      "metadata": {
        "colab": {
          "base_uri": "https://localhost:8080/",
          "height": 0
        },
        "id": "conceptual-position",
        "outputId": "d092035e-8ba3-44f2-f131-731b3828180f"
      },
      "outputs": [
        {
          "output_type": "stream",
          "name": "stdout",
          "text": [
            "Try adding block...\n",
            "Block added.\n",
            "Total time needed is 0.0001251697540283203 seconds:\n",
            "Try adding block...\n",
            "Block added.\n",
            "Total time needed is 0.1701974868774414 seconds:\n",
            "Try adding block...\n",
            "Block added.\n",
            "Total time needed is 0.10762262344360352 seconds:\n",
            "Try adding block...\n",
            "Block added.\n",
            "Total time needed is 0.020478248596191406 seconds:\n",
            "Block 1:\n",
            "Nounce 7\n",
            "Createion time: 2025-04-25 08:58:35\n",
            "Previous hash: Genesis Block\n",
            "Hash:000b2b52ef6be6aab1ed7a6bf3750521433a140a13cedb599cde65fc6107611c\n",
            "\n",
            "Block 2:\n",
            "Nounce 12564\n",
            "Createion time: 2025-04-25 08:58:35\n",
            "Previous hash: 100\n",
            "Hash:0005b32ffe1319f601a321c4ceff5205fc0baf56d1fb81fab1eaf08f1914f242\n",
            "{'Sender': 'Ray', 'Recipient': 'Joe', 'Amount(HKD)': 200, 'Datetime': 1745571515.8942099}\n",
            "{'Sender': 'Peter', 'Recipient': 'Bill', 'Amount(HKD)': 400, 'Datetime': 1745571515.8942642}\n",
            "\n",
            "Block 3:\n",
            "Nounce 5592\n",
            "Createion time: 2025-04-25 08:58:36\n",
            "Previous hash: 100\n",
            "Hash:000bc934810372d2bf8e3851e1e8235298035bcba28b7ef6c4e132330064dbe6\n",
            "{'Sender': 'Ray', 'Recipient': 'Bill', 'Amount(HKD)': 200, 'Datetime': 1745571516.0647054}\n",
            "{'Sender': 'Peter', 'Recipient': 'Ray', 'Amount(HKD)': 400, 'Datetime': 1745571516.0647488}\n",
            "{'Sender': 'Chris', 'Recipient': 'Kris', 'Amount(HKD)': 200, 'Datetime': 1745571516.0647962}\n",
            "{'Sender': 'Peter', 'Recipient': 'Bill', 'Amount(HKD)': 500, 'Datetime': 1745571516.0648267}\n",
            "\n",
            "Block 4:\n",
            "Nounce 1614\n",
            "Createion time: 2025-04-25 08:58:36\n",
            "Previous hash: 100\n",
            "Hash:0007d5f8da7afd5a6ab2c383967aa67843ff766e6fc999ba4c90e7431f7a9abc\n",
            "{'Sender': 'Kris', 'Recipient': 'Ray', 'Amount(HKD)': 1200, 'Datetime': 1745571516.1727002}\n",
            "{'Sender': 'Ray', 'Recipient': 'Chris', 'Amount(HKD)': 400, 'Datetime': 1745571516.1727502}\n",
            "\n"
          ]
        }
      ],
      "source": [
        "blockchain = BlockChain()\n",
        "\n",
        "# Write your code below\n",
        "blockchain.new_transaction(\"Ray\", \"Joe\", 200)\n",
        "blockchain.new_transaction(\"Peter\", \"Bill\", 400)\n",
        "\n",
        "\n",
        "blockchain.add_new_block(100)\n",
        "\n",
        "blockchain.new_transaction(\"Ray\", \"Bill\", 200)\n",
        "blockchain.new_transaction(\"Peter\", \"Ray\", 400)\n",
        "blockchain.new_transaction(\"Chris\", \"Kris\", 200)\n",
        "blockchain.new_transaction(\"Peter\", \"Bill\", 500)\n",
        "\n",
        "blockchain.add_new_block(100)\n",
        "blockchain.new_transaction(\"Kris\", \"Ray\", 1200)\n",
        "blockchain.new_transaction(\"Ray\", \"Chris\", 400)\n",
        "\n",
        "blockchain.add_new_block(100)\n",
        "blockchain.print()\n",
        "\n"
      ]
    }
  ],
  "metadata": {
    "kernelspec": {
      "display_name": "Python 3",
      "name": "python3"
    },
    "language_info": {
      "name": "python"
    },
    "colab": {
      "provenance": []
    }
  },
  "nbformat": 4,
  "nbformat_minor": 5
}